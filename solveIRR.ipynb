{
 "cells": [
  {
   "cell_type": "markdown",
   "metadata": {
    "scrolled": true
   },
   "source": [
    "Corporate Finance Exercise set 3 Question 4-48: \n",
    "to get all the possible IRRs through solving the polynomial equation\n",
    "3.25*x*(1+x)^4-(1+x)^4+1 = 0, we run the following 3 lines of codes."
   ]
  },
  {
   "cell_type": "code",
   "execution_count": 1,
   "metadata": {
    "scrolled": false
   },
   "outputs": [
    {
     "data": {
      "text/plain": [
       "[-1.63116471757557,\n",
       " 0.0,\n",
       " 0.0885580841208748,\n",
       " -1.0748505294265 - 0.665008885328002*I,\n",
       " -1.0748505294265 + 0.665008885328002*I]"
      ]
     },
     "execution_count": 1,
     "metadata": {},
     "output_type": "execute_result"
    }
   ],
   "source": [
    "from sympy import Symbol, solve\n",
    "x = Symbol(\"x\")\n",
    "solve(3.25*x*(1+x)**4-(1+x)**4+1)"
   ]
  },
  {
   "cell_type": "markdown",
   "metadata": {},
   "source": [
    "There are 3 real roots but interest rate is generally positive. -1.63116471757557 and 0.0 are not realistic numbers for interest rate. Therefore there's only one IRR 8.85580841208748%."
   ]
  },
  {
   "cell_type": "markdown",
   "metadata": {},
   "source": [
    "Corporate Finance Exercise set 4 Question 7-13: \n",
    "to get all the possible IRRs through solving the polynomial equation\n",
    "(5*x-0.9)*(1+x)^10+1 = 0, we run the following 3 lines of codes."
   ]
  },
  {
   "cell_type": "code",
   "execution_count": 2,
   "metadata": {},
   "outputs": [
    {
     "data": {
      "text/plain": [
       "[-1.79531533426579,\n",
       " 0.0274578401665965,\n",
       " 0.108791830692669,\n",
       " -1.65735878173071 - 0.453700564327409*I,\n",
       " -1.65735878173071 + 0.453700564327409*I,\n",
       " -1.28662762317853 - 0.757299515247718*I,\n",
       " -1.28662762317853 + 0.757299515247718*I,\n",
       " -0.798175626017105 - 0.806508412941909*I,\n",
       " -0.798175626017105 + 0.806508412941909*I,\n",
       " -0.338305137370402 - 0.570661250186463*I,\n",
       " -0.338305137370402 + 0.570661250186463*I]"
      ]
     },
     "execution_count": 2,
     "metadata": {},
     "output_type": "execute_result"
    }
   ],
   "source": [
    "from sympy import Symbol, solve\n",
    "x = Symbol(\"x\")\n",
    "solve((5*x-0.9)*(1+x)**10+1)"
   ]
  },
  {
   "cell_type": "markdown",
   "metadata": {},
   "source": [
    "There are 3 real roots -1.79531533426579,  0.0274578401665965, 0.108791830692669. But cost of capital is positive. Therefore, there are only two IRRs, 2.745784% and 10.879183%. "
   ]
  }
 ],
 "metadata": {
  "kernelspec": {
   "display_name": "Python 3",
   "language": "python",
   "name": "python3"
  },
  "language_info": {
   "codemirror_mode": {
    "name": "ipython",
    "version": 3
   },
   "file_extension": ".py",
   "mimetype": "text/x-python",
   "name": "python",
   "nbconvert_exporter": "python",
   "pygments_lexer": "ipython3",
   "version": "3.7.3"
  }
 },
 "nbformat": 4,
 "nbformat_minor": 2
}
