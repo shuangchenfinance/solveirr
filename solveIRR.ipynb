{
 "cells": [
  {
   "cell_type": "code",
   "execution_count": 1,
   "metadata": {
    "scrolled": true
   },
   "outputs": [
    {
     "data": {
      "text/plain": [
       "[-1.79531533426579,\n",
       " 0.0274578401665965,\n",
       " 0.108791830692669,\n",
       " -1.65735878173071 - 0.453700564327409*I,\n",
       " -1.65735878173071 + 0.453700564327409*I,\n",
       " -1.28662762317853 - 0.757299515247718*I,\n",
       " -1.28662762317853 + 0.757299515247718*I,\n",
       " -0.798175626017105 - 0.806508412941909*I,\n",
       " -0.798175626017105 + 0.806508412941909*I,\n",
       " -0.338305137370402 - 0.570661250186463*I,\n",
       " -0.338305137370402 + 0.570661250186463*I]"
      ]
     },
     "execution_count": 1,
     "metadata": {},
     "output_type": "execute_result"
    }
   ],
   "source": [
    "from sympy import Symbol, solve\n",
    "x = Symbol(\"x\")\n",
    "solve((5*x-0.9)*(1+x)**10+1)"
   ]
  }
 ],
 "metadata": {
  "kernelspec": {
   "display_name": "Python 3",
   "language": "python",
   "name": "python3"
  },
  "language_info": {
   "codemirror_mode": {
    "name": "ipython",
    "version": 3
   },
   "file_extension": ".py",
   "mimetype": "text/x-python",
   "name": "python",
   "nbconvert_exporter": "python",
   "pygments_lexer": "ipython3",
   "version": "3.7.3"
  }
 },
 "nbformat": 4,
 "nbformat_minor": 2
}
